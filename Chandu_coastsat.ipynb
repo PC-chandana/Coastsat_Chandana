{
 "cells": [
  {
   "cell_type": "code",
   "execution_count": null,
   "id": "291aab94",
   "metadata": {},
   "outputs": [],
   "source": [
    "# Retrieval of satellite images"
   ]
  },
  {
   "cell_type": "code",
   "execution_count": 1,
   "id": "a0f948ab",
   "metadata": {},
   "outputs": [],
   "source": [
    "%load_ext autoreload\n",
    "%autoreload 2\n",
    "import os\n",
    "import numpy as np\n",
    "import pickle\n",
    "import warnings\n",
    "warnings.filterwarnings(\"ignore\")\n",
    "import matplotlib\n",
    "matplotlib.use('Qt5Agg')\n",
    "import matplotlib.pyplot as plt\n",
    "from matplotlib import gridspec\n",
    "plt.ion()\n",
    "import pandas as pd\n",
    "from datetime import datetime\n",
    "from coastsat import SDS_download, SDS_preprocess, SDS_shoreline, SDS_tools, SDS_transects"
   ]
  },
  {
   "cell_type": "code",
   "execution_count": null,
   "id": "a8154774",
   "metadata": {},
   "outputs": [],
   "source": [
    "# !pip install geemap"
   ]
  },
  {
   "cell_type": "code",
   "execution_count": 2,
   "id": "ad48c7e3",
   "metadata": {},
   "outputs": [],
   "source": [
    "import ee"
   ]
  },
  {
   "cell_type": "code",
   "execution_count": 3,
   "id": "d02f64bd",
   "metadata": {},
   "outputs": [],
   "source": [
    "import geemap"
   ]
  },
  {
   "cell_type": "code",
   "execution_count": null,
   "id": "34501e36",
   "metadata": {},
   "outputs": [],
   "source": [
    "# ee.Authenticate()"
   ]
  },
  {
   "cell_type": "code",
   "execution_count": 4,
   "id": "f4baf223",
   "metadata": {},
   "outputs": [],
   "source": [
    "ee.Initialize()"
   ]
  },
  {
   "cell_type": "code",
   "execution_count": 5,
   "id": "3e30e7e2",
   "metadata": {},
   "outputs": [
    {
     "data": {
      "application/vnd.jupyter.widget-view+json": {
       "model_id": "550e38a46feb4ea28c83a08bd11e3fa5",
       "version_major": 2,
       "version_minor": 0
      },
      "text/plain": [
       "Map(center=[20, 0], controls=(WidgetControl(options=['position', 'transparent_bg'], widget=HBox(children=(Togg…"
      ]
     },
     "execution_count": 5,
     "metadata": {},
     "output_type": "execute_result"
    }
   ],
   "source": [
    "Map = geemap.Map()\n",
    "Map"
   ]
  },
  {
   "cell_type": "code",
   "execution_count": 7,
   "id": "349dcf16",
   "metadata": {},
   "outputs": [
    {
     "name": "stdout",
     "output_type": "stream",
     "text": [
      "Number of images available between 2017-09-01 and 2018-01-01:\n",
      "- In Landsat Tier 1 & Sentinel-2 Level-1C:\n",
      "     S2: 23 images\n",
      "  Total to download: 23 images\n"
     ]
    }
   ],
   "source": [
    "# region of interest (longitude, latitude)\n",
    "polygon = [[[151.2957545, -33.7012561],\n",
    "            [151.297557, -33.7388075],\n",
    "            [151.312234, -33.7390216],\n",
    "            [151.311204, -33.701399],\n",
    "            [151.2957545, -33.7012561]]]\n",
    "# it's recommended to convert the polygon to the smallest rectangle (sides parallel to coordinate axes)       \n",
    "polygon = SDS_tools.smallest_rectangle(polygon)\n",
    "# or load from .geojson\n",
    "# geojson_polygon = os.path.join(os.getcwd(), 'examples', 'NARRA_polygon.geojson')\n",
    "# polygon = SDS_tools.polygon_from_geojson(geojson_polygon)\n",
    "# or load from .kml\n",
    "# kml_polygon = os.path.join(os.getcwd(), 'examples', 'NARRA_polygon.kml')\n",
    "# polygon = SDS_tools.polygon_from_kml(kml_polygon)\n",
    "# date range\n",
    "dates = ['2017-09-01', '2018-01-01']\n",
    "# satellite missions ['L5','L7','L8','L9','S2']\n",
    "sat_list = ['S2']\n",
    "# choose Landsat collection 'C01' or 'C02'\n",
    "collection = 'C02'\n",
    "# name of the site\n",
    "sitename = 'NARRA1'\n",
    "# directory where the data will be stored\n",
    "filepath = os.path.join(os.getcwd(), 'data')\n",
    "# put all the inputs into a dictionnary\n",
    "inputs = {'polygon': polygon, 'dates': dates, 'sat_list': sat_list, 'sitename': sitename, 'filepath':filepath,\n",
    "         'landsat_collection': collection}\n",
    "# optionally, you can select your Sentinel-2 tile to avoid duplicates from multiple tiles\n",
    "# inputs['S2tile'] = '56HLH'\n",
    "# before downloading the images, check how many images are available for your inputs\n",
    "SDS_download.check_images_available(inputs);"
   ]
  },
  {
   "cell_type": "code",
   "execution_count": 8,
   "id": "d47142c2",
   "metadata": {},
   "outputs": [
    {
     "name": "stdout",
     "output_type": "stream",
     "text": [
      "Number of images available between 2017-09-01 and 2018-01-01:\n",
      "- In Landsat Tier 1 & Sentinel-2 Level-1C:\n",
      "     S2: 23 images\n",
      "  Total to download: 23 images\n",
      "\n",
      "Downloading images:\n",
      "S2: 23 images\n",
      "100%\n",
      "Satellite images downloaded from GEE and save in C:\\WEBMAP\\coastsat\\CoastSat\\data\\NARRA1\n"
     ]
    }
   ],
   "source": [
    "# inputs['include_T2'] = True\n",
    "metadata = SDS_download.retrieve_images(inputs)"
   ]
  },
  {
   "cell_type": "code",
   "execution_count": 9,
   "id": "4033512c",
   "metadata": {},
   "outputs": [],
   "source": [
    "settings = {\n",
    "    # general parameters:\n",
    "    'cloud_thresh': 0.5,        # threshold on maximum cloud cover\n",
    "    'dist_clouds': 300,         # ditance around clouds where shoreline can't be mapped\n",
    "    'output_epsg': 28356,       # epsg code of spatial reference system desired for the output\n",
    "    # quality control:\n",
    "    'check_detection': True,    # if True, shows each shoreline detection to the user for validation\n",
    "    'adjust_detection': False,  # if True, allows user to adjust the postion of each shoreline by changing the threhold\n",
    "    'save_figure': True,        # if True, saves a figure showing the mapped shoreline for each image\n",
    "    # [ONLY FOR ADVANCED USERS] shoreline detection parameters:\n",
    "    'min_beach_area': 1000,     # minimum area (in metres^2) for an object to be labelled as a beach\n",
    "    'min_length_sl': 500,       # minimum length (in metres) of shoreline perimeter to be valid\n",
    "    'cloud_mask_issue': False,  # switch this parameter to True if sand pixels are masked (in black) on many images  \n",
    "    'sand_color': 'default',    # 'default', 'latest', 'dark' (for grey/black sand beaches) or 'bright' (for white sand beaches)\n",
    "    'pan_off': False,           # True to switch pansharpening off for Landsat 7/8/9 imagery\n",
    "    's2cloudless_prob': 60,     # probability threshold to identify cloudy pixels in the s2cloudless mask\n",
    "    \n",
    "    # add the inputs defined previously\n",
    "    'inputs': inputs,\n",
    "}"
   ]
  },
  {
   "cell_type": "code",
   "execution_count": 10,
   "id": "f0879a22",
   "metadata": {},
   "outputs": [
    {
     "name": "stdout",
     "output_type": "stream",
     "text": [
      "Saving images as jpg:\n",
      "S2: 23 images\n",
      "100%\n",
      "Satellite images saved as .jpg in C:\\WEBMAP\\coastsat\\CoastSat\\data\\NARRA1\\jpg_files\\preprocessed\n"
     ]
    }
   ],
   "source": [
    "SDS_preprocess.save_jpg(metadata, settings, use_matplotlib=True)"
   ]
  },
  {
   "cell_type": "code",
   "execution_count": 12,
   "id": "681c8f15",
   "metadata": {},
   "outputs": [
    {
     "name": "stderr",
     "output_type": "stream",
     "text": [
      "IMAGEIO FFMPEG_WRITER WARNING: input image is not divisible by macro_block_size=16, resizing from (2700, 1350) to (2704, 1360) to ensure video compatibility with most codecs and players. To prevent resizing, make your input image divisible by the macro_block_size or set the macro_block_size to 1 (risking incompatibility).\n"
     ]
    },
    {
     "name": "stdout",
     "output_type": "stream",
     "text": [
      "Animation has been generated (using 2 frames per second) and saved at C:\\WEBMAP\\coastsat\\CoastSat\\data\\NARRA1\\NARRA1_animation_RGB.mp4\n"
     ]
    }
   ],
   "source": [
    "# create MP4 timelapse animation\n",
    "fn_animation = os.path.join(inputs['filepath'],inputs['sitename'], '%s_animation_RGB.mp4'%inputs['sitename'])\n",
    "fp_images = os.path.join(inputs['filepath'], inputs['sitename'], 'jpg_files', 'preprocessed')\n",
    "fps = 2 # frames per second in animation\n",
    "SDS_tools.make_animation_mp4(fp_images, fps, fn_animation)"
   ]
  },
  {
   "cell_type": "code",
   "execution_count": 13,
   "id": "c90e7cd2",
   "metadata": {},
   "outputs": [
    {
     "name": "stdout",
     "output_type": "stream",
     "text": [
      "Reference shoreline has been saved in C:\\WEBMAP\\coastsat\\CoastSat\\data\\NARRA1\n"
     ]
    }
   ],
   "source": [
    "%matplotlib qt\n",
    "settings['reference_shoreline'] = SDS_preprocess.get_reference_sl(metadata, settings)\n",
    "settings['max_dist_ref'] = 100 # max distance (in meters) allowed from the reference shoreline"
   ]
  },
  {
   "cell_type": "code",
   "execution_count": 14,
   "id": "28510302",
   "metadata": {},
   "outputs": [
    {
     "name": "stdout",
     "output_type": "stream",
     "text": [
      "Mapping shorelines:\n",
      "S2:   100%\n"
     ]
    }
   ],
   "source": [
    "%matplotlib qt\n",
    "output = SDS_shoreline.extract_shorelines(metadata, settings)"
   ]
  },
  {
   "cell_type": "code",
   "execution_count": 15,
   "id": "8e5111d7",
   "metadata": {},
   "outputs": [
    {
     "name": "stdout",
     "output_type": "stream",
     "text": [
      "0 duplicates\n",
      "0 bad georef\n"
     ]
    }
   ],
   "source": [
    "output = SDS_tools.remove_duplicates(output) # removes duplicates (images taken on the same date by the same satellite)\n",
    "output = SDS_tools.remove_inaccurate_georef(output, 10) # remove inaccurate georeferencing (set threshold to 10 m)"
   ]
  },
  {
   "cell_type": "code",
   "execution_count": 16,
   "id": "9da804ad",
   "metadata": {},
   "outputs": [],
   "source": [
    "from pyproj import CRS\n",
    "geomtype = 'points' # choose 'points' or 'lines' for the layer geometry\n",
    "gdf = SDS_tools.output_to_gdf(output, geomtype)\n",
    "if gdf is None:\n",
    "    raise Exception(\"output does not contain any mapped shorelines\")\n",
    "gdf.crs = CRS(settings['output_epsg']) # set layer projection\n",
    "# save GEOJSON layer to file\n",
    "gdf.to_file(os.path.join(inputs['filepath'], inputs['sitename'], '%s_output_%s.geojson'%(sitename,geomtype)),\n",
    "                                driver='GeoJSON', encoding='utf-8')"
   ]
  },
  {
   "cell_type": "code",
   "execution_count": 17,
   "id": "65e7f78f",
   "metadata": {},
   "outputs": [
    {
     "name": "stderr",
     "output_type": "stream",
     "text": [
      "IMAGEIO FFMPEG_WRITER WARNING: input image is not divisible by macro_block_size=16, resizing from (2880, 1426) to (2880, 1440) to ensure video compatibility with most codecs and players. To prevent resizing, make your input image divisible by the macro_block_size or set the macro_block_size to 1 (risking incompatibility).\n"
     ]
    },
    {
     "name": "stdout",
     "output_type": "stream",
     "text": [
      "Animation has been generated (using 4 frames per second) and saved at C:\\WEBMAP\\coastsat\\CoastSat\\data\\NARRA1\\NARRA1_animation_shorelines.mp4\n"
     ]
    }
   ],
   "source": [
    "# create MP4 timelapse animation\n",
    "fn_animation = os.path.join(inputs['filepath'],inputs['sitename'], '%s_animation_shorelines.mp4'%inputs['sitename'])\n",
    "fp_images = os.path.join(inputs['filepath'], inputs['sitename'], 'jpg_files', 'detection')\n",
    "fps = 4 # frames per second in animation\n",
    "SDS_tools.make_animation_mp4(fp_images, fps, fn_animation)"
   ]
  },
  {
   "cell_type": "code",
   "execution_count": 18,
   "id": "dec3836f",
   "metadata": {},
   "outputs": [
    {
     "data": {
      "image/png": "[encoded data removed]",
      "text/plain": [
       "<Figure size 1500x800 with 1 Axes>"
      ]
     },
     "metadata": {},
     "output_type": "display_data"
    }
   ],
   "source": [
    "%matplotlib inline\n",
    "fig = plt.figure(figsize=[15,8])\n",
    "plt.axis('equal')\n",
    "plt.xlabel('Eastings')\n",
    "plt.ylabel('Northings')\n",
    "plt.grid(linestyle=':', color='0.5')\n",
    "for i in range(len(output['shorelines'])):\n",
    "    sl = output['shorelines'][i]\n",
    "    date = output['dates'][i]\n",
    "    plt.plot(sl[:,0], sl[:,1], '.', label=date.strftime('%d-%m-%Y'))\n",
    "plt.legend();"
   ]
  },
  {
   "cell_type": "code",
   "execution_count": 19,
   "id": "ba6af3f0",
   "metadata": {},
   "outputs": [
    {
     "name": "stdout",
     "output_type": "stream",
     "text": [
      "0 duplicates\n",
      "0 bad georef\n"
     ]
    }
   ],
   "source": [
    "filepath = os.path.join(inputs['filepath'], sitename)\n",
    "with open(os.path.join(filepath, sitename + '_output' + '.pkl'), 'rb') as f:\n",
    "    output = pickle.load(f)\n",
    "# remove duplicates (images taken on the same date by the same satellite)\n",
    "output = SDS_tools.remove_duplicates(output)\n",
    "# remove inaccurate georeferencing (set threshold to 10 m)\n",
    "output = SDS_tools.remove_inaccurate_georef(output, 10)"
   ]
  },
  {
   "cell_type": "code",
   "execution_count": 20,
   "id": "cc6616b4",
   "metadata": {},
   "outputs": [
    {
     "name": "stdout",
     "output_type": "stream",
     "text": [
      "Transect locations saved in C:\\WEBMAP\\coastsat\\CoastSat\\data\\NARRA1\n"
     ]
    }
   ],
   "source": [
    "%matplotlib qt\n",
    "transects = SDS_transects.draw_transects(output, settings)"
   ]
  },
  {
   "cell_type": "code",
   "execution_count": 21,
   "id": "c782476e",
   "metadata": {},
   "outputs": [
    {
     "name": "stdout",
     "output_type": "stream",
     "text": [
      "5 transects have been loaded coordinates are in epsg:28356\n"
     ]
    }
   ],
   "source": [
    "geojson_file = os.path.join(os.getcwd(), 'examples', 'NARRA_transects.geojson')\n",
    "transects = SDS_tools.transects_from_geojson(geojson_file)"
   ]
  },
  {
   "cell_type": "code",
   "execution_count": 22,
   "id": "cc59127f",
   "metadata": {},
   "outputs": [],
   "source": [
    "fig = plt.figure(figsize=[15,8], tight_layout=True)\n",
    "plt.axis('equal')\n",
    "plt.xlabel('Eastings')\n",
    "plt.ylabel('Northings')\n",
    "plt.grid(linestyle=':', color='0.5')\n",
    "for i in range(len(output['shorelines'])):\n",
    "    sl = output['shorelines'][i]\n",
    "    date = output['dates'][i]\n",
    "    plt.plot(sl[:,0], sl[:,1], '.', label=date.strftime('%d-%m-%Y'))\n",
    "for i,key in enumerate(list(transects.keys())):\n",
    "    plt.plot(transects[key][0,0],transects[key][0,1], 'bo', ms=5)\n",
    "    plt.plot(transects[key][:,0],transects[key][:,1],'k-',lw=1)\n",
    "    plt.text(transects[key][0,0]-100, transects[key][0,1]+100, key,\n",
    "                va='center', ha='right', bbox=dict(boxstyle=\"square\", ec='k',fc='w'))"
   ]
  },
  {
   "cell_type": "code",
   "execution_count": 23,
   "id": "1cc38a94",
   "metadata": {},
   "outputs": [],
   "source": [
    "# along-shore distance over which to consider shoreline points to compute the median intersection\n",
    "settings_transects = {'along_dist':25}\n",
    "cross_distance = SDS_transects.compute_intersection(output, transects, settings_transects) "
   ]
  },
  {
   "cell_type": "code",
   "execution_count": 24,
   "id": "7ffe9212",
   "metadata": {},
   "outputs": [],
   "source": [
    "settings_transects = { # parameters for computing intersections\n",
    "                      'along_dist':          25,        # along-shore distance to use for computing the intersection\n",
    "                      'min_points':          3,         # minimum number of shoreline points to calculate an intersection\n",
    "                      'max_std':             15,        # max std for points around transect\n",
    "                      'max_range':           30,        # max range for points around transect\n",
    "                      'min_chainage':        -100,      # largest negative value along transect (landwards of transect origin)\n",
    "                      'multiple_inter':      'auto',    # mode for removing outliers ('auto', 'nan', 'max')\n",
    "                      'auto_prc':            0.1,       # percentage of the time that multiple intersects are present to use the max\n",
    "                     }\n",
    "cross_distance = SDS_transects.compute_intersection_QC(output, transects, settings_transects) "
   ]
  },
  {
   "cell_type": "code",
   "execution_count": 25,
   "id": "80c2bea4",
   "metadata": {},
   "outputs": [],
   "source": [
    "fig = plt.figure(figsize=[15,8], tight_layout=True)\n",
    "gs = gridspec.GridSpec(len(cross_distance),1)\n",
    "gs.update(left=0.05, right=0.95, bottom=0.05, top=0.95, hspace=0.05)\n",
    "for i,key in enumerate(cross_distance.keys()):\n",
    "    if np.all(np.isnan(cross_distance[key])):\n",
    "        continue\n",
    "    ax = fig.add_subplot(gs[i,0])\n",
    "    ax.grid(linestyle=':', color='0.5')\n",
    "    ax.plot(output['dates'], cross_distance[key], '-o', ms=6, mfc='w')\n",
    "    ax.set_ylabel('distance [m]', fontsize=12)\n",
    "    ax.text(0.5,0.95, key, bbox=dict(boxstyle=\"square\", ec='k',fc='w'), ha='center',\n",
    "            va='top', transform=ax.transAxes, fontsize=14)  "
   ]
  },
  {
   "cell_type": "code",
   "execution_count": 26,
   "id": "2cf6ba0d",
   "metadata": {},
   "outputs": [
    {
     "name": "stdout",
     "output_type": "stream",
     "text": [
      "Time-series of the shoreline change along the transects saved as:\n",
      "C:\\WEBMAP\\coastsat\\CoastSat\\data\\NARRA1\\transect_time_series.csv\n"
     ]
    }
   ],
   "source": [
    "# save a .csv file for Excel users\n",
    "out_dict = dict([])\n",
    "out_dict['dates'] = output['dates']\n",
    "for key in transects.keys():\n",
    "    out_dict[key] = cross_distance[key]\n",
    "df = pd.DataFrame(out_dict)\n",
    "fn = os.path.join(settings['inputs']['filepath'],settings['inputs']['sitename'],\n",
    "                  'transect_time_series.csv')\n",
    "df.to_csv(fn, sep=',')\n",
    "print('Time-series of the shoreline change along the transects saved as:\\n%s'%fn)"
   ]
  },
  {
   "cell_type": "code",
   "execution_count": 27,
   "id": "baa81dba",
   "metadata": {},
   "outputs": [],
   "source": [
    "# load mapped shorelines from 1984\n",
    "filename_output = os.path.join(os.getcwd(),'examples','NARRA_output.pkl')\n",
    "with open(filename_output, 'rb') as f:\n",
    "    output = pickle.load(f) \n",
    "\n",
    "# plot the mapped shorelines\n",
    "fig = plt.figure(figsize=[15,8], tight_layout=True)\n",
    "plt.axis('equal')\n",
    "plt.xlabel('Eastings')\n",
    "plt.ylabel('Northings')\n",
    "plt.grid(linestyle=':', color='0.5')\n",
    "plt.title('%d shorelines mapped at Narrabeen from 1984'%len(output['shorelines']))\n",
    "for i in range(len(output['shorelines'])):\n",
    "    sl = output['shorelines'][i]\n",
    "    date = output['dates'][i]\n",
    "    plt.plot(sl[:,0], sl[:,1], '.', label=date.strftime('%d-%m-%Y'))\n",
    "for i,key in enumerate(list(transects.keys())):\n",
    "    plt.plot(transects[key][0,0],transects[key][0,1], 'bo', ms=5)\n",
    "    plt.plot(transects[key][:,0],transects[key][:,1],'k-',lw=1)\n",
    "    plt.text(transects[key][0,0]-100, transects[key][0,1]+100, key,\n",
    "             va='center', ha='right', bbox=dict(boxstyle=\"square\", ec='k',fc='w'))\n",
    "\n",
    "# load long time-series (1984-2021)\n",
    "filepath = os.path.join(os.getcwd(),'examples','NARRA_time_series_tidally_corrected.csv')\n",
    "df = pd.read_csv(filepath, parse_dates=['dates'])\n",
    "dates = [_.to_pydatetime() for _ in df['dates']]\n",
    "cross_distance = dict([])\n",
    "for key in transects.keys():\n",
    "    cross_distance[key] = np.array(df[key])"
   ]
  },
  {
   "cell_type": "code",
   "execution_count": 28,
   "id": "42ff059a",
   "metadata": {},
   "outputs": [
    {
     "name": "stdout",
     "output_type": "stream",
     "text": [
      "NA1  - outliers removed: 2\n",
      "NA2  - outliers removed: 4\n",
      "NA3  - outliers removed: 3\n",
      "NA4  - outliers removed: 1\n",
      "NA5  - outliers removed: 2\n"
     ]
    }
   ],
   "source": [
    "# remove outliers in the time-series (coastal despiking)\n",
    "settings_outliers = {'max_cross_change':   40,             # maximum cross-shore change observable between consecutive timesteps\n",
    "                     'otsu_threshold':     [-.5,0],        # min and max intensity threshold use for contouring the shoreline\n",
    "                     'plot_fig':           True,           # whether to plot the intermediate steps\n",
    "                    }\n",
    "cross_distance = SDS_transects.reject_outliers(cross_distance,output,settings_outliers)"
   ]
  },
  {
   "cell_type": "code",
   "execution_count": null,
   "id": "a3336ee5",
   "metadata": {},
   "outputs": [],
   "source": []
  }
 ],
 "metadata": {
  "kernelspec": {
   "display_name": "Python 3 (ipykernel)",
   "language": "python",
   "name": "python3"
  },
  "language_info": {
   "codemirror_mode": {
    "name": "ipython",
    "version": 3
   },
   "file_extension": ".py",
   "mimetype": "text/x-python",
   "name": "python",
   "nbconvert_exporter": "python",
   "pygments_lexer": "ipython3",
   "version": "3.11.4"
  }
 },
 "nbformat": 4,
 "nbformat_minor": 5
}
